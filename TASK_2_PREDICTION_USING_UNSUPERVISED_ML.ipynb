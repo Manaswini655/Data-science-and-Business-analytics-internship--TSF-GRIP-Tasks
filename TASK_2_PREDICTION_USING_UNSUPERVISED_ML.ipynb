{
  "nbformat": 4,
  "nbformat_minor": 0,
  "metadata": {
    "colab": {
      "name": "TASK-2:PREDICTION USING UNSUPERVISED ML.ipynb",
      "provenance": [],
      "collapsed_sections": [],
      "authorship_tag": "ABX9TyOZBAnl4OjJyD8azO2JQWu2",
      "include_colab_link": true
    },
    "kernelspec": {
      "name": "python3",
      "display_name": "Python 3"
    },
    "language_info": {
      "name": "python"
    }
  },
  "cells": [
    {
      "cell_type": "markdown",
      "metadata": {
        "id": "view-in-github",
        "colab_type": "text"
      },
      "source": [
        "<a href=\"https://colab.research.google.com/github/SrilaxmiThatha/Data-science-and-Business-analytics-internship--TSF-GRIP-Tasks/blob/main/TASK_2_PREDICTION_USING_UNSUPERVISED_ML.ipynb\" target=\"_parent\"><img src=\"https://colab.research.google.com/assets/colab-badge.svg\" alt=\"Open In Colab\"/></a>"
      ]
    },
    {
      "cell_type": "markdown",
      "metadata": {
        "id": "inVn6SVtmnK6"
      },
      "source": [
        "**The** **Sparks** **Foundation** **Internship**\n",
        "**Data** **Science** & **Business** **Analytics** **Tasks** \n",
        "\n",
        "**Task**-**II** :- Prediction using Unsupervised ML\n",
        "\n",
        "**Concept** :- Clustering with k means\n",
        "\n",
        "**Description** :- From the given ‘Iris’ dataset, predict the optimum number of clusters\n",
        "\n",
        "**Dataset** : https://bit.ly/3kXTdox\n",
        "\n",
        "**Author** :- THATHA SRIALXMI\n",
        "\n",
        "**Language** :- Python "
      ]
    },
    {
      "cell_type": "markdown",
      "metadata": {
        "id": "3G58wKVpnN9i"
      },
      "source": [
        "To start, let's import required libraries for the given task."
      ]
    },
    {
      "cell_type": "code",
      "metadata": {
        "id": "U7IlYuKQZ3HP"
      },
      "source": [
        " #Importing Important libraries\n",
        "import numpy as np\n",
        "import matplotlib.pyplot as plt\n",
        "import pandas as pd\n",
        "from sklearn import datasets"
      ],
      "execution_count": null,
      "outputs": []
    },
    {
      "cell_type": "markdown",
      "metadata": {
        "id": "zjPCui-inTtS"
      },
      "source": [
        "**Importing** **the** **Data** **of** **iris** **with** **different** **characteristics**"
      ]
    },
    {
      "cell_type": "code",
      "metadata": {
        "colab": {
          "base_uri": "https://localhost:8080/",
          "height": 200
        },
        "id": "UGSBDZK3krVb",
        "outputId": "31efb1ff-aa50-43d8-f3e8-54d739318655"
      },
      "source": [
        "#Loading the iris data\n",
        "iris = datasets.load_iris()\n",
        "dataset = pd.read_csv(\"https://bit.ly/3kXTdox\")\n",
        "iris_data.head()    #See first five rows"
      ],
      "execution_count": null,
      "outputs": [
        {
          "output_type": "execute_result",
          "data": {
            "text/html": [
              "<div>\n",
              "<style scoped>\n",
              "    .dataframe tbody tr th:only-of-type {\n",
              "        vertical-align: middle;\n",
              "    }\n",
              "\n",
              "    .dataframe tbody tr th {\n",
              "        vertical-align: top;\n",
              "    }\n",
              "\n",
              "    .dataframe thead th {\n",
              "        text-align: right;\n",
              "    }\n",
              "</style>\n",
              "<table border=\"1\" class=\"dataframe\">\n",
              "  <thead>\n",
              "    <tr style=\"text-align: right;\">\n",
              "      <th></th>\n",
              "      <th>sepal length (cm)</th>\n",
              "      <th>sepal width (cm)</th>\n",
              "      <th>petal length (cm)</th>\n",
              "      <th>petal width (cm)</th>\n",
              "    </tr>\n",
              "  </thead>\n",
              "  <tbody>\n",
              "    <tr>\n",
              "      <th>0</th>\n",
              "      <td>5.1</td>\n",
              "      <td>3.5</td>\n",
              "      <td>1.4</td>\n",
              "      <td>0.2</td>\n",
              "    </tr>\n",
              "    <tr>\n",
              "      <th>1</th>\n",
              "      <td>4.9</td>\n",
              "      <td>3.0</td>\n",
              "      <td>1.4</td>\n",
              "      <td>0.2</td>\n",
              "    </tr>\n",
              "    <tr>\n",
              "      <th>2</th>\n",
              "      <td>4.7</td>\n",
              "      <td>3.2</td>\n",
              "      <td>1.3</td>\n",
              "      <td>0.2</td>\n",
              "    </tr>\n",
              "    <tr>\n",
              "      <th>3</th>\n",
              "      <td>4.6</td>\n",
              "      <td>3.1</td>\n",
              "      <td>1.5</td>\n",
              "      <td>0.2</td>\n",
              "    </tr>\n",
              "    <tr>\n",
              "      <th>4</th>\n",
              "      <td>5.0</td>\n",
              "      <td>3.6</td>\n",
              "      <td>1.4</td>\n",
              "      <td>0.2</td>\n",
              "    </tr>\n",
              "  </tbody>\n",
              "</table>\n",
              "</div>"
            ],
            "text/plain": [
              "   sepal length (cm)  sepal width (cm)  petal length (cm)  petal width (cm)\n",
              "0                5.1               3.5                1.4               0.2\n",
              "1                4.9               3.0                1.4               0.2\n",
              "2                4.7               3.2                1.3               0.2\n",
              "3                4.6               3.1                1.5               0.2\n",
              "4                5.0               3.6                1.4               0.2"
            ]
          },
          "metadata": {},
          "execution_count": 4
        }
      ]
    },
    {
      "cell_type": "code",
      "metadata": {
        "colab": {
          "base_uri": "https://localhost:8080/",
          "height": 290
        },
        "id": "hP8Ev6iglGck",
        "outputId": "4d4842b4-d579-4aee-dafc-84ddb8d540bd"
      },
      "source": [
        "iris_data.describe()"
      ],
      "execution_count": null,
      "outputs": [
        {
          "output_type": "execute_result",
          "data": {
            "text/html": [
              "<div>\n",
              "<style scoped>\n",
              "    .dataframe tbody tr th:only-of-type {\n",
              "        vertical-align: middle;\n",
              "    }\n",
              "\n",
              "    .dataframe tbody tr th {\n",
              "        vertical-align: top;\n",
              "    }\n",
              "\n",
              "    .dataframe thead th {\n",
              "        text-align: right;\n",
              "    }\n",
              "</style>\n",
              "<table border=\"1\" class=\"dataframe\">\n",
              "  <thead>\n",
              "    <tr style=\"text-align: right;\">\n",
              "      <th></th>\n",
              "      <th>sepal length (cm)</th>\n",
              "      <th>sepal width (cm)</th>\n",
              "      <th>petal length (cm)</th>\n",
              "      <th>petal width (cm)</th>\n",
              "    </tr>\n",
              "  </thead>\n",
              "  <tbody>\n",
              "    <tr>\n",
              "      <th>count</th>\n",
              "      <td>150.000000</td>\n",
              "      <td>150.000000</td>\n",
              "      <td>150.000000</td>\n",
              "      <td>150.000000</td>\n",
              "    </tr>\n",
              "    <tr>\n",
              "      <th>mean</th>\n",
              "      <td>5.843333</td>\n",
              "      <td>3.057333</td>\n",
              "      <td>3.758000</td>\n",
              "      <td>1.199333</td>\n",
              "    </tr>\n",
              "    <tr>\n",
              "      <th>std</th>\n",
              "      <td>0.828066</td>\n",
              "      <td>0.435866</td>\n",
              "      <td>1.765298</td>\n",
              "      <td>0.762238</td>\n",
              "    </tr>\n",
              "    <tr>\n",
              "      <th>min</th>\n",
              "      <td>4.300000</td>\n",
              "      <td>2.000000</td>\n",
              "      <td>1.000000</td>\n",
              "      <td>0.100000</td>\n",
              "    </tr>\n",
              "    <tr>\n",
              "      <th>25%</th>\n",
              "      <td>5.100000</td>\n",
              "      <td>2.800000</td>\n",
              "      <td>1.600000</td>\n",
              "      <td>0.300000</td>\n",
              "    </tr>\n",
              "    <tr>\n",
              "      <th>50%</th>\n",
              "      <td>5.800000</td>\n",
              "      <td>3.000000</td>\n",
              "      <td>4.350000</td>\n",
              "      <td>1.300000</td>\n",
              "    </tr>\n",
              "    <tr>\n",
              "      <th>75%</th>\n",
              "      <td>6.400000</td>\n",
              "      <td>3.300000</td>\n",
              "      <td>5.100000</td>\n",
              "      <td>1.800000</td>\n",
              "    </tr>\n",
              "    <tr>\n",
              "      <th>max</th>\n",
              "      <td>7.900000</td>\n",
              "      <td>4.400000</td>\n",
              "      <td>6.900000</td>\n",
              "      <td>2.500000</td>\n",
              "    </tr>\n",
              "  </tbody>\n",
              "</table>\n",
              "</div>"
            ],
            "text/plain": [
              "       sepal length (cm)  sepal width (cm)  petal length (cm)  petal width (cm)\n",
              "count         150.000000        150.000000         150.000000        150.000000\n",
              "mean            5.843333          3.057333           3.758000          1.199333\n",
              "std             0.828066          0.435866           1.765298          0.762238\n",
              "min             4.300000          2.000000           1.000000          0.100000\n",
              "25%             5.100000          2.800000           1.600000          0.300000\n",
              "50%             5.800000          3.000000           4.350000          1.300000\n",
              "75%             6.400000          3.300000           5.100000          1.800000\n",
              "max             7.900000          4.400000           6.900000          2.500000"
            ]
          },
          "metadata": {},
          "execution_count": 5
        }
      ]
    },
    {
      "cell_type": "code",
      "metadata": {
        "colab": {
          "base_uri": "https://localhost:8080/"
        },
        "id": "gsMZ_gsVlbcA",
        "outputId": "bfc92f2c-692f-42f0-ce2b-17efb6511f0c"
      },
      "source": [
        "dataset.info()"
      ],
      "execution_count": null,
      "outputs": [
        {
          "output_type": "stream",
          "name": "stdout",
          "text": [
            "<class 'pandas.core.frame.DataFrame'>\n",
            "RangeIndex: 176 entries, 0 to 175\n",
            "Columns: 722 entries, <!DOCTYPE html><html><head><meta name=\"google\" content=\"notranslate\"><meta http-equiv=\"X-UA-Compatible\" content=\"IE=edge;\"><style nonce=\"dFqPRWAmyrX3jJ7ceyzdsw\">@font-face{font-family:'Roboto';font-style:italic;font-weight:400;src:url(//fonts.gstatic.com/s/roboto/v18/KFOkCnqEu92Fr1Mu51xIIzc.ttf)format('truetype');}@font-face{font-family:'Roboto';font-style:normal;font-weight:300;src:url(//fonts.gstatic.com/s/roboto/v18/KFOlCnqEu92Fr1MmSU5fBBc9.ttf)format('truetype');}@font-face{font-family:'Roboto';font-style:normal;font-weight:400;src:url(//fonts.gstatic.com/s/roboto/v18/KFOmCnqEu92Fr1Mu4mxP.ttf)format('truetype');}@font-face{font-family:'Roboto';font-style:normal;font-weight:700;src:url(//fonts.gstatic.com/s/roboto/v18/KFOlCnqEu92Fr1MmWUlfBBc9.ttf)format('truetype');}</style><meta name=\"referrer\" content=\"origin\"><title>Iris.csv - Google Drive</title><meta property=\"og:title\" content=\"Iris.csv\"><meta property=\"og:type\" content=\"article\"><meta property=\"og:site_name\" content=\"Google Docs\"><meta property=\"og:url\" content=\"https://drive.google.com/file/d/11Iq7YvbWZbt8VXjfm06brx66b10YiwK-/view?usp=embed_facebook\"><link rel=\"shortcut icon\" href=\"https://ssl.gstatic.com/images/branding/product/1x/drive_2020q4_32dp.png\"><link rel=\"stylesheet\" href=\"https://fonts.googleapis.com/css?family=Google+Sans:300 to };this.gbar_=this.gbar_||{};(function(_){var window=this;\n",
            "dtypes: float64(527), object(195)\n",
            "memory usage: 992.9+ KB\n"
          ]
        }
      ]
    },
    {
      "cell_type": "markdown",
      "metadata": {
        "id": "wtounr_gnhI7"
      },
      "source": [
        "**The** **optimum** **number** **of** **clusters** **for** **K** **Means**"
      ]
    },
    {
      "cell_type": "code",
      "metadata": {
        "id": "nn1vgm9SlOG5"
      },
      "source": [
        "#Optimum Number of Clusters for k-means Classification\n",
        "\n",
        "x = iris_data.iloc[:,[0,1,2,3]].values     # spliting data into for columns \\\n",
        "\n",
        "from sklearn.cluster import KMeans\n",
        "wcss = []     #Within Clusters Sum of Squares\n",
        "\n",
        "for i in range(1,11):\n",
        "    kmeans = KMeans(n_clusters = i, init = 'k-means++',\n",
        "                    max_iter = 300, n_init = 10, random_state = 0)\n",
        "    kmeans.fit(x)\n",
        "    wcss.append(kmeans.inertia_)"
      ],
      "execution_count": null,
      "outputs": []
    },
    {
      "cell_type": "markdown",
      "metadata": {
        "id": "8HGI0ASYny68"
      },
      "source": [
        "***WCSS*** **knowledge**\n",
        "\n",
        "WCSS shows variation of the data from centered value.\n",
        "\n",
        "WCSS is less when the data is of simliar kind. Else it has mixed kind of data for which clusters are used for different kinds."
      ]
    },
    {
      "cell_type": "code",
      "metadata": {
        "colab": {
          "base_uri": "https://localhost:8080/",
          "height": 295
        },
        "id": "cMO1fEPXl9jR",
        "outputId": "bff30b21-3339-41a6-ddef-dd713b4bd680"
      },
      "source": [
        "#PLotting of the results\n",
        "#observation of \"The elbow\"\n",
        "plt.plot(range(1,11),wcss)\n",
        "plt.title(\"The elbow method\")\n",
        "plt.xlabel(\"Number of Clusters\")\n",
        "plt.ylabel(\"WCSS\")\n",
        "plt.show()\n"
      ],
      "execution_count": null,
      "outputs": [
        {
          "output_type": "display_data",
          "data": {
            "image/png": "[encoded data removed]",
            "text/plain": [
              "<Figure size 432x288 with 1 Axes>"
            ]
          },
          "metadata": {
            "needs_background": "light"
          }
        }
      ]
    },
    {
      "cell_type": "markdown",
      "metadata": {
        "id": "GTN8xanCn-Kx"
      },
      "source": [
        "**Elbow** **Method**\n",
        "\n",
        "'The elbow method' from the above graph, the optimum clusters is where the elbow occurs.\n",
        "\n",
        "This is when the within cluster sum of squares (WCSS) doesn't decrease significantly with every iteration.\n",
        "\n",
        "Hence, the optimum number of clusters is 3\n",
        "\n",
        "It means there are 3 types of data that make 3 clusters having different wcss"
      ]
    },
    {
      "cell_type": "code",
      "metadata": {
        "id": "e2CNG87YmW-v"
      },
      "source": [
        "#Creating k-means classifier for given data\n",
        "kmeans = KMeans(n_clusters=3, init=\"k-means++\",\n",
        "               max_iter=300, n_init=10, random_state=0)\n",
        "y_kmeans = kmeans.fit_predict(x)"
      ],
      "execution_count": null,
      "outputs": []
    },
    {
      "cell_type": "markdown",
      "metadata": {
        "id": "aUoRMe-voJeR"
      },
      "source": [
        "**Visualization**\n",
        "\n",
        "\n",
        "Let's visualize the 3 different clusters with their means."
      ]
    },
    {
      "cell_type": "code",
      "metadata": {
        "colab": {
          "base_uri": "https://localhost:8080/",
          "height": 456
        },
        "id": "qedJ2V8kmLjZ",
        "outputId": "358b42b8-9a94-4f8a-8966-a7ba35e968f3"
      },
      "source": [
        "# Visualising the clusters - On the first two columns\n",
        "plt.figure(figsize=(7,5),dpi=100)\n",
        "plt.scatter(x[y_kmeans == 0, 0], x[y_kmeans == 0, 1], \n",
        "            s = 100, c = 'red', label = 'Iris-setosa')\n",
        "plt.scatter(x[y_kmeans == 1, 0], x[y_kmeans == 1, 1], \n",
        "            s = 100, c = 'blue', label = 'Iris-versicolour')\n",
        "plt.scatter(x[y_kmeans == 2, 0], x[y_kmeans == 2, 1],\n",
        "            s = 100, c = 'green', label = 'Iris-virginica')\n",
        "\n",
        "# Plotting the centroids of the clusters\n",
        "plt.scatter(kmeans.cluster_centers_[:, 0], kmeans.cluster_centers_[:,1], \n",
        "            s = 100, c = 'yellow', label = 'Centroids')\n",
        "\n",
        "plt.legend()"
      ],
      "execution_count": null,
      "outputs": [
        {
          "output_type": "execute_result",
          "data": {
            "text/plain": [
              "<matplotlib.legend.Legend at 0x7fd5ac9b9dd0>"
            ]
          },
          "metadata": {},
          "execution_count": 12
        },
        {
          "output_type": "display_data",
          "data": {
            "image/png": "[encoded data removed]",
            "text/plain": [
              "<Figure size 700x500 with 1 Axes>"
            ]
          },
          "metadata": {
            "needs_background": "light"
          }
        }
      ]
    }
  ]
}